{
  "nbformat": 4,
  "nbformat_minor": 0,
  "metadata": {
    "colab": {
      "name": "ismailah28@gmail.com.ipynb",
      "version": "0.3.2",
      "provenance": [],
      "collapsed_sections": []
    },
    "kernelspec": {
      "name": "python3",
      "display_name": "Python 3"
    }
  },
  "cells": [
    {
      "metadata": {
        "id": "bewCzYfwp_w7",
        "colab_type": "code",
        "colab": {}
      },
      "cell_type": "code",
      "source": [
        "# import libraries\n",
        "\n",
        "import pandas as pd\n",
        "import numpy as np\n",
        "import matplotlib.pyplot as plt\n",
        "from sklearn.preprocessing import StandardScaler\n",
        "from sklearn.decomposition import PCA\n",
        "from sklearn.cluster import KMeans"
      ],
      "execution_count": 0,
      "outputs": []
    },
    {
      "metadata": {
        "id": "jbzAY-QBPFxy",
        "colab_type": "code",
        "outputId": "82e4c210-96aa-44cf-d2ac-c9aaa7fff7ec",
        "colab": {
          "base_uri": "https://localhost:8080/",
          "height": 395
        }
      },
      "cell_type": "code",
      "source": [
        "# load dataset from file\n",
        "df = pd.read_csv('week3_challenge.csv', index_col=[0])\n",
        "df.head(3)"
      ],
      "execution_count": 0,
      "outputs": [
        {
          "output_type": "execute_result",
          "data": {
            "text/html": [
              "<div>\n",
              "<style scoped>\n",
              "    .dataframe tbody tr th:only-of-type {\n",
              "        vertical-align: middle;\n",
              "    }\n",
              "\n",
              "    .dataframe tbody tr th {\n",
              "        vertical-align: top;\n",
              "    }\n",
              "\n",
              "    .dataframe thead th {\n",
              "        text-align: right;\n",
              "    }\n",
              "</style>\n",
              "<table border=\"1\" class=\"dataframe\">\n",
              "  <thead>\n",
              "    <tr style=\"text-align: right;\">\n",
              "      <th></th>\n",
              "      <th>createdAt_Month</th>\n",
              "      <th>Reason</th>\n",
              "      <th>application_id</th>\n",
              "      <th>SystemCustomerID</th>\n",
              "      <th>SystemLoanID</th>\n",
              "      <th>income_source</th>\n",
              "      <th>income_verified</th>\n",
              "      <th>next_loan_number</th>\n",
              "      <th>country</th>\n",
              "      <th>DecisionFlag</th>\n",
              "      <th>...</th>\n",
              "      <th>callFeatures_no_distinct_call_numbers_out</th>\n",
              "      <th>callFeatures_no_calls_over_zero_secs_out</th>\n",
              "      <th>callFeatures_no_calls_out</th>\n",
              "      <th>predictedIncome</th>\n",
              "      <th>installationId</th>\n",
              "      <th>obiResult_scorecard</th>\n",
              "      <th>obiResult_score</th>\n",
              "      <th>obiResult_riskLevel</th>\n",
              "      <th>obiResult_ratingClass</th>\n",
              "      <th>obiResult_ncngav2Id</th>\n",
              "    </tr>\n",
              "  </thead>\n",
              "  <tbody>\n",
              "    <tr>\n",
              "      <th>0</th>\n",
              "      <td>201812</td>\n",
              "      <td>Client did not meet approval score.</td>\n",
              "      <td>WRYRieZlqBsT6w53b2HDpA_1544015103274</td>\n",
              "      <td>334043596</td>\n",
              "      <td>302881418623</td>\n",
              "      <td>credit</td>\n",
              "      <td>True</td>\n",
              "      <td>1</td>\n",
              "      <td>NG</td>\n",
              "      <td>Declined</td>\n",
              "      <td>...</td>\n",
              "      <td>139.0</td>\n",
              "      <td>287.0</td>\n",
              "      <td>655.0</td>\n",
              "      <td>105872.674499</td>\n",
              "      <td>374ac87639a74b3e01465993be618360</td>\n",
              "      <td>NC_NGA_V2</td>\n",
              "      <td>337.57</td>\n",
              "      <td>Decline</td>\n",
              "      <td>NaN</td>\n",
              "      <td>a6e99ddb-2c95-4b1e-90cb-d05ffa9d1c9a</td>\n",
              "    </tr>\n",
              "    <tr>\n",
              "      <th>1</th>\n",
              "      <td>201809</td>\n",
              "      <td>Client did not meet approval score.</td>\n",
              "      <td>oVpQz7tgkPa3bmvVDzYqw_1530858694219</td>\n",
              "      <td>524284563</td>\n",
              "      <td>302328949395</td>\n",
              "      <td>credit</td>\n",
              "      <td>True</td>\n",
              "      <td>4</td>\n",
              "      <td>NG</td>\n",
              "      <td>Declined</td>\n",
              "      <td>...</td>\n",
              "      <td>327.0</td>\n",
              "      <td>1114.0</td>\n",
              "      <td>2923.0</td>\n",
              "      <td>34421.220891</td>\n",
              "      <td>e24749e856614a1ae3734c773670f74c</td>\n",
              "      <td>NaN</td>\n",
              "      <td>NaN</td>\n",
              "      <td>NaN</td>\n",
              "      <td>NaN</td>\n",
              "      <td>NaN</td>\n",
              "    </tr>\n",
              "    <tr>\n",
              "      <th>2</th>\n",
              "      <td>201810</td>\n",
              "      <td>Client did not meet approval score.</td>\n",
              "      <td>WCONqdL9BlaRetaDRERg_1538822524979</td>\n",
              "      <td>481582700</td>\n",
              "      <td>302536536368</td>\n",
              "      <td>credit</td>\n",
              "      <td>True</td>\n",
              "      <td>2</td>\n",
              "      <td>NG</td>\n",
              "      <td>Declined</td>\n",
              "      <td>...</td>\n",
              "      <td>139.0</td>\n",
              "      <td>583.0</td>\n",
              "      <td>1115.0</td>\n",
              "      <td>14447.944277</td>\n",
              "      <td>abe46a8fe9345c0b230c3fcaa5ddbbbc</td>\n",
              "      <td>NaN</td>\n",
              "      <td>NaN</td>\n",
              "      <td>NaN</td>\n",
              "      <td>NaN</td>\n",
              "      <td>NaN</td>\n",
              "    </tr>\n",
              "  </tbody>\n",
              "</table>\n",
              "<p>3 rows × 289 columns</p>\n",
              "</div>"
            ],
            "text/plain": [
              "   createdAt_Month                               Reason  \\\n",
              "0           201812  Client did not meet approval score.   \n",
              "1           201809  Client did not meet approval score.   \n",
              "2           201810  Client did not meet approval score.   \n",
              "\n",
              "                         application_id  SystemCustomerID  SystemLoanID  \\\n",
              "0  WRYRieZlqBsT6w53b2HDpA_1544015103274         334043596  302881418623   \n",
              "1   oVpQz7tgkPa3bmvVDzYqw_1530858694219         524284563  302328949395   \n",
              "2    WCONqdL9BlaRetaDRERg_1538822524979         481582700  302536536368   \n",
              "\n",
              "  income_source  income_verified  next_loan_number country DecisionFlag  \\\n",
              "0        credit             True                 1      NG     Declined   \n",
              "1        credit             True                 4      NG     Declined   \n",
              "2        credit             True                 2      NG     Declined   \n",
              "\n",
              "                   ...                   \\\n",
              "0                  ...                    \n",
              "1                  ...                    \n",
              "2                  ...                    \n",
              "\n",
              "  callFeatures_no_distinct_call_numbers_out  \\\n",
              "0                                     139.0   \n",
              "1                                     327.0   \n",
              "2                                     139.0   \n",
              "\n",
              "   callFeatures_no_calls_over_zero_secs_out callFeatures_no_calls_out  \\\n",
              "0                                     287.0                     655.0   \n",
              "1                                    1114.0                    2923.0   \n",
              "2                                     583.0                    1115.0   \n",
              "\n",
              "  predictedIncome                    installationId obiResult_scorecard  \\\n",
              "0   105872.674499  374ac87639a74b3e01465993be618360           NC_NGA_V2   \n",
              "1    34421.220891  e24749e856614a1ae3734c773670f74c                 NaN   \n",
              "2    14447.944277  abe46a8fe9345c0b230c3fcaa5ddbbbc                 NaN   \n",
              "\n",
              "   obiResult_score  obiResult_riskLevel  obiResult_ratingClass  \\\n",
              "0           337.57              Decline                    NaN   \n",
              "1              NaN                  NaN                    NaN   \n",
              "2              NaN                  NaN                    NaN   \n",
              "\n",
              "                    obiResult_ncngav2Id  \n",
              "0  a6e99ddb-2c95-4b1e-90cb-d05ffa9d1c9a  \n",
              "1                                   NaN  \n",
              "2                                   NaN  \n",
              "\n",
              "[3 rows x 289 columns]"
            ]
          },
          "metadata": {
            "tags": []
          },
          "execution_count": 4
        }
      ]
    },
    {
      "metadata": {
        "id": "4FHTVGsqQhHm",
        "colab_type": "code",
        "outputId": "ab3e2f7f-0fde-4163-e30a-86e5678db2c2",
        "colab": {
          "base_uri": "https://localhost:8080/",
          "height": 34
        }
      },
      "cell_type": "code",
      "source": [
        "# get features with missing values greater than 30%\n",
        "percent_missing = df.isnull().mean() * 100\n",
        "missing_features_greater_than_30percent = percent_missing[percent_missing > 30].index\n",
        "print('Total count of columns with missing values greater than 30%:', len(missing_features_greater_than_30percent))"
      ],
      "execution_count": 0,
      "outputs": [
        {
          "output_type": "stream",
          "text": [
            "Total count of columns with missing values greater than 30%: 18\n"
          ],
          "name": "stdout"
        }
      ]
    },
    {
      "metadata": {
        "id": "wfFjT2hBZ72Q",
        "colab_type": "code",
        "colab": {}
      },
      "cell_type": "code",
      "source": [
        "# delete features with missing values greater than 30%\n",
        "df.drop(missing_features_greater_than_30percent, axis=1, inplace=True)"
      ],
      "execution_count": 0,
      "outputs": []
    },
    {
      "metadata": {
        "id": "05uxtt0lW3A6",
        "colab_type": "code",
        "outputId": "2be89166-4e10-4a92-eedb-55f1eeeb1016",
        "colab": {
          "base_uri": "https://localhost:8080/",
          "height": 270
        }
      },
      "cell_type": "code",
      "source": [
        "# select numeric features\n",
        "num_df = df.select_dtypes(include=['int64', 'float64']).copy()\n",
        "print('number of numeric columns: %s' % len(num_df.columns.values))\n",
        "num_df.head()"
      ],
      "execution_count": 0,
      "outputs": [
        {
          "output_type": "stream",
          "text": [
            "number of numeric columns: 248\n"
          ],
          "name": "stdout"
        },
        {
          "output_type": "execute_result",
          "data": {
            "text/html": [
              "<div>\n",
              "<style scoped>\n",
              "    .dataframe tbody tr th:only-of-type {\n",
              "        vertical-align: middle;\n",
              "    }\n",
              "\n",
              "    .dataframe tbody tr th {\n",
              "        vertical-align: top;\n",
              "    }\n",
              "\n",
              "    .dataframe thead th {\n",
              "        text-align: right;\n",
              "    }\n",
              "</style>\n",
              "<table border=\"1\" class=\"dataframe\">\n",
              "  <thead>\n",
              "    <tr style=\"text-align: right;\">\n",
              "      <th></th>\n",
              "      <th>createdAt_Month</th>\n",
              "      <th>SystemCustomerID</th>\n",
              "      <th>SystemLoanID</th>\n",
              "      <th>next_loan_number</th>\n",
              "      <th>Income</th>\n",
              "      <th>__v</th>\n",
              "      <th>demofeatures_net_income_band</th>\n",
              "      <th>demofeatures_appweek</th>\n",
              "      <th>demofeatures_age_at_application_yrs</th>\n",
              "      <th>demofeatures_num_children</th>\n",
              "      <th>...</th>\n",
              "      <th>callFeatures_vol_calls_1_mnth_out</th>\n",
              "      <th>callFeatures_vol_calls_2_mnth_out</th>\n",
              "      <th>callFeatures_vol_calls_3_mnth_out</th>\n",
              "      <th>callFeatures_dur_calls_out</th>\n",
              "      <th>callFeatures_dur_calls_contacts_out</th>\n",
              "      <th>callFeatures_ratio_contacts_out</th>\n",
              "      <th>callFeatures_no_distinct_call_numbers_out</th>\n",
              "      <th>callFeatures_no_calls_over_zero_secs_out</th>\n",
              "      <th>callFeatures_no_calls_out</th>\n",
              "      <th>predictedIncome</th>\n",
              "    </tr>\n",
              "  </thead>\n",
              "  <tbody>\n",
              "    <tr>\n",
              "      <th>0</th>\n",
              "      <td>201812</td>\n",
              "      <td>334043596</td>\n",
              "      <td>302881418623</td>\n",
              "      <td>1</td>\n",
              "      <td>200000.0</td>\n",
              "      <td>0.0</td>\n",
              "      <td>200000.0</td>\n",
              "      <td>1.0</td>\n",
              "      <td>28.0</td>\n",
              "      <td>0.0</td>\n",
              "      <td>...</td>\n",
              "      <td>655.0</td>\n",
              "      <td>0.0</td>\n",
              "      <td>0.0</td>\n",
              "      <td>48872.0</td>\n",
              "      <td>0.985554</td>\n",
              "      <td>0.929771</td>\n",
              "      <td>139.0</td>\n",
              "      <td>287.0</td>\n",
              "      <td>655.0</td>\n",
              "      <td>105872.674499</td>\n",
              "    </tr>\n",
              "    <tr>\n",
              "      <th>1</th>\n",
              "      <td>201809</td>\n",
              "      <td>524284563</td>\n",
              "      <td>302328949395</td>\n",
              "      <td>4</td>\n",
              "      <td>80000.0</td>\n",
              "      <td>0.0</td>\n",
              "      <td>100000.0</td>\n",
              "      <td>1.0</td>\n",
              "      <td>33.0</td>\n",
              "      <td>0.0</td>\n",
              "      <td>...</td>\n",
              "      <td>2923.0</td>\n",
              "      <td>0.0</td>\n",
              "      <td>0.0</td>\n",
              "      <td>65335.0</td>\n",
              "      <td>0.956868</td>\n",
              "      <td>0.917550</td>\n",
              "      <td>327.0</td>\n",
              "      <td>1114.0</td>\n",
              "      <td>2923.0</td>\n",
              "      <td>34421.220891</td>\n",
              "    </tr>\n",
              "    <tr>\n",
              "      <th>2</th>\n",
              "      <td>201810</td>\n",
              "      <td>481582700</td>\n",
              "      <td>302536536368</td>\n",
              "      <td>2</td>\n",
              "      <td>39500.0</td>\n",
              "      <td>0.0</td>\n",
              "      <td>50000.0</td>\n",
              "      <td>2.0</td>\n",
              "      <td>26.0</td>\n",
              "      <td>0.0</td>\n",
              "      <td>...</td>\n",
              "      <td>1115.0</td>\n",
              "      <td>0.0</td>\n",
              "      <td>0.0</td>\n",
              "      <td>98762.0</td>\n",
              "      <td>0.000000</td>\n",
              "      <td>0.000000</td>\n",
              "      <td>139.0</td>\n",
              "      <td>583.0</td>\n",
              "      <td>1115.0</td>\n",
              "      <td>14447.944277</td>\n",
              "    </tr>\n",
              "    <tr>\n",
              "      <th>3</th>\n",
              "      <td>201812</td>\n",
              "      <td>234330495</td>\n",
              "      <td>302887567434</td>\n",
              "      <td>1</td>\n",
              "      <td>50000.0</td>\n",
              "      <td>0.0</td>\n",
              "      <td>50000.0</td>\n",
              "      <td>1.0</td>\n",
              "      <td>36.0</td>\n",
              "      <td>1.0</td>\n",
              "      <td>...</td>\n",
              "      <td>58.0</td>\n",
              "      <td>50.0</td>\n",
              "      <td>0.0</td>\n",
              "      <td>1530.0</td>\n",
              "      <td>0.762092</td>\n",
              "      <td>0.777778</td>\n",
              "      <td>46.0</td>\n",
              "      <td>38.0</td>\n",
              "      <td>108.0</td>\n",
              "      <td>52952.581832</td>\n",
              "    </tr>\n",
              "    <tr>\n",
              "      <th>4</th>\n",
              "      <td>201901</td>\n",
              "      <td>563455515</td>\n",
              "      <td>303057983993</td>\n",
              "      <td>2</td>\n",
              "      <td>20000.0</td>\n",
              "      <td>0.0</td>\n",
              "      <td>75000.0</td>\n",
              "      <td>3.0</td>\n",
              "      <td>28.0</td>\n",
              "      <td>3.0</td>\n",
              "      <td>...</td>\n",
              "      <td>1474.0</td>\n",
              "      <td>0.0</td>\n",
              "      <td>0.0</td>\n",
              "      <td>29949.0</td>\n",
              "      <td>0.937828</td>\n",
              "      <td>0.938942</td>\n",
              "      <td>114.0</td>\n",
              "      <td>549.0</td>\n",
              "      <td>1474.0</td>\n",
              "      <td>31577.275467</td>\n",
              "    </tr>\n",
              "  </tbody>\n",
              "</table>\n",
              "<p>5 rows × 248 columns</p>\n",
              "</div>"
            ],
            "text/plain": [
              "   createdAt_Month  SystemCustomerID  SystemLoanID  next_loan_number  \\\n",
              "0           201812         334043596  302881418623                 1   \n",
              "1           201809         524284563  302328949395                 4   \n",
              "2           201810         481582700  302536536368                 2   \n",
              "3           201812         234330495  302887567434                 1   \n",
              "4           201901         563455515  303057983993                 2   \n",
              "\n",
              "     Income  __v  demofeatures_net_income_band  demofeatures_appweek  \\\n",
              "0  200000.0  0.0                      200000.0                   1.0   \n",
              "1   80000.0  0.0                      100000.0                   1.0   \n",
              "2   39500.0  0.0                       50000.0                   2.0   \n",
              "3   50000.0  0.0                       50000.0                   1.0   \n",
              "4   20000.0  0.0                       75000.0                   3.0   \n",
              "\n",
              "   demofeatures_age_at_application_yrs  demofeatures_num_children  \\\n",
              "0                                 28.0                        0.0   \n",
              "1                                 33.0                        0.0   \n",
              "2                                 26.0                        0.0   \n",
              "3                                 36.0                        1.0   \n",
              "4                                 28.0                        3.0   \n",
              "\n",
              "        ...         callFeatures_vol_calls_1_mnth_out  \\\n",
              "0       ...                                     655.0   \n",
              "1       ...                                    2923.0   \n",
              "2       ...                                    1115.0   \n",
              "3       ...                                      58.0   \n",
              "4       ...                                    1474.0   \n",
              "\n",
              "   callFeatures_vol_calls_2_mnth_out  callFeatures_vol_calls_3_mnth_out  \\\n",
              "0                                0.0                                0.0   \n",
              "1                                0.0                                0.0   \n",
              "2                                0.0                                0.0   \n",
              "3                               50.0                                0.0   \n",
              "4                                0.0                                0.0   \n",
              "\n",
              "   callFeatures_dur_calls_out  callFeatures_dur_calls_contacts_out  \\\n",
              "0                     48872.0                             0.985554   \n",
              "1                     65335.0                             0.956868   \n",
              "2                     98762.0                             0.000000   \n",
              "3                      1530.0                             0.762092   \n",
              "4                     29949.0                             0.937828   \n",
              "\n",
              "   callFeatures_ratio_contacts_out  callFeatures_no_distinct_call_numbers_out  \\\n",
              "0                         0.929771                                      139.0   \n",
              "1                         0.917550                                      327.0   \n",
              "2                         0.000000                                      139.0   \n",
              "3                         0.777778                                       46.0   \n",
              "4                         0.938942                                      114.0   \n",
              "\n",
              "   callFeatures_no_calls_over_zero_secs_out  callFeatures_no_calls_out  \\\n",
              "0                                     287.0                      655.0   \n",
              "1                                    1114.0                     2923.0   \n",
              "2                                     583.0                     1115.0   \n",
              "3                                      38.0                      108.0   \n",
              "4                                     549.0                     1474.0   \n",
              "\n",
              "   predictedIncome  \n",
              "0    105872.674499  \n",
              "1     34421.220891  \n",
              "2     14447.944277  \n",
              "3     52952.581832  \n",
              "4     31577.275467  \n",
              "\n",
              "[5 rows x 248 columns]"
            ]
          },
          "metadata": {
            "tags": []
          },
          "execution_count": 38
        }
      ]
    },
    {
      "metadata": {
        "id": "mnw-XRvlnVx6",
        "colab_type": "code",
        "colab": {}
      },
      "cell_type": "code",
      "source": [
        "# Remove columns that may not contribute to our solution\n",
        "num_df.drop(['createdAt_Month', 'SystemCustomerID', 'SystemLoanID'], axis=1, inplace=True)"
      ],
      "execution_count": 0,
      "outputs": []
    },
    {
      "metadata": {
        "id": "H2M2Kv0oc3tc",
        "colab_type": "code",
        "colab": {}
      },
      "cell_type": "code",
      "source": [
        "# fill null values with 0\n",
        "num_df.fillna(0, inplace=True)"
      ],
      "execution_count": 0,
      "outputs": []
    },
    {
      "metadata": {
        "id": "EnEtHIU6fRua",
        "colab_type": "code",
        "outputId": "49f348fa-7917-4179-824d-d79a10d36713",
        "colab": {
          "base_uri": "https://localhost:8080/",
          "height": 105
        }
      },
      "cell_type": "code",
      "source": [
        "# scale data\n",
        "X = StandardScaler().fit_transform(num_df)"
      ],
      "execution_count": 0,
      "outputs": [
        {
          "output_type": "stream",
          "text": [
            "/usr/local/lib/python3.6/dist-packages/sklearn/preprocessing/data.py:645: DataConversionWarning: Data with input dtype int64, float64 were all converted to float64 by StandardScaler.\n",
            "  return self.partial_fit(X, y)\n",
            "/usr/local/lib/python3.6/dist-packages/sklearn/base.py:464: DataConversionWarning: Data with input dtype int64, float64 were all converted to float64 by StandardScaler.\n",
            "  return self.fit(X, **fit_params).transform(X)\n"
          ],
          "name": "stderr"
        }
      ]
    },
    {
      "metadata": {
        "id": "ZNUbRX8ZmvpU",
        "colab_type": "code",
        "colab": {}
      },
      "cell_type": "code",
      "source": [
        "# create pca\n",
        "pca = PCA(n_components=5)"
      ],
      "execution_count": 0,
      "outputs": []
    },
    {
      "metadata": {
        "id": "m3X3bVWRnZtc",
        "colab_type": "code",
        "colab": {}
      },
      "cell_type": "code",
      "source": [
        "# fit the data to the model\n",
        "principalComponents = pca.fit_transform(X)"
      ],
      "execution_count": 0,
      "outputs": []
    },
    {
      "metadata": {
        "id": "hOcUm5bgngCo",
        "colab_type": "code",
        "outputId": "3734d65b-3482-4fa9-b450-717eb9c2a1f7",
        "colab": {
          "base_uri": "https://localhost:8080/",
          "height": 204
        }
      },
      "cell_type": "code",
      "source": [
        "# create dataframe containing principal components\n",
        "columns = [\n",
        "    'principal component 1', \n",
        "    'principal component 2', \n",
        "    'principal component 3', \n",
        "    'principal component 4', \n",
        "    'principal component 5'\n",
        "]\n",
        "principalDf = pd.DataFrame(data = principalComponents, columns = columns)\n",
        "principalDf.head()"
      ],
      "execution_count": 0,
      "outputs": [
        {
          "output_type": "execute_result",
          "data": {
            "text/html": [
              "<div>\n",
              "<style scoped>\n",
              "    .dataframe tbody tr th:only-of-type {\n",
              "        vertical-align: middle;\n",
              "    }\n",
              "\n",
              "    .dataframe tbody tr th {\n",
              "        vertical-align: top;\n",
              "    }\n",
              "\n",
              "    .dataframe thead th {\n",
              "        text-align: right;\n",
              "    }\n",
              "</style>\n",
              "<table border=\"1\" class=\"dataframe\">\n",
              "  <thead>\n",
              "    <tr style=\"text-align: right;\">\n",
              "      <th></th>\n",
              "      <th>principal component 1</th>\n",
              "      <th>principal component 2</th>\n",
              "      <th>principal component 3</th>\n",
              "      <th>principal component 4</th>\n",
              "      <th>principal component 5</th>\n",
              "    </tr>\n",
              "  </thead>\n",
              "  <tbody>\n",
              "    <tr>\n",
              "      <th>0</th>\n",
              "      <td>4.221909</td>\n",
              "      <td>-2.273156</td>\n",
              "      <td>0.760895</td>\n",
              "      <td>-1.595942</td>\n",
              "      <td>4.229952</td>\n",
              "    </tr>\n",
              "    <tr>\n",
              "      <th>1</th>\n",
              "      <td>13.461862</td>\n",
              "      <td>-3.655075</td>\n",
              "      <td>-2.135355</td>\n",
              "      <td>-0.890576</td>\n",
              "      <td>-0.205635</td>\n",
              "    </tr>\n",
              "    <tr>\n",
              "      <th>2</th>\n",
              "      <td>5.898813</td>\n",
              "      <td>-2.348910</td>\n",
              "      <td>0.101535</td>\n",
              "      <td>0.483923</td>\n",
              "      <td>0.256511</td>\n",
              "    </tr>\n",
              "    <tr>\n",
              "      <th>3</th>\n",
              "      <td>-1.883405</td>\n",
              "      <td>1.373126</td>\n",
              "      <td>-0.209414</td>\n",
              "      <td>3.304034</td>\n",
              "      <td>0.290557</td>\n",
              "    </tr>\n",
              "    <tr>\n",
              "      <th>4</th>\n",
              "      <td>2.635306</td>\n",
              "      <td>1.729701</td>\n",
              "      <td>0.546624</td>\n",
              "      <td>-2.890968</td>\n",
              "      <td>-0.893202</td>\n",
              "    </tr>\n",
              "  </tbody>\n",
              "</table>\n",
              "</div>"
            ],
            "text/plain": [
              "   principal component 1  principal component 2  principal component 3  \\\n",
              "0               4.221909              -2.273156               0.760895   \n",
              "1              13.461862              -3.655075              -2.135355   \n",
              "2               5.898813              -2.348910               0.101535   \n",
              "3              -1.883405               1.373126              -0.209414   \n",
              "4               2.635306               1.729701               0.546624   \n",
              "\n",
              "   principal component 4  principal component 5  \n",
              "0              -1.595942               4.229952  \n",
              "1              -0.890576              -0.205635  \n",
              "2               0.483923               0.256511  \n",
              "3               3.304034               0.290557  \n",
              "4              -2.890968              -0.893202  "
            ]
          },
          "metadata": {
            "tags": []
          },
          "execution_count": 14
        }
      ]
    },
    {
      "metadata": {
        "id": "tc-gkyZhqRih",
        "colab_type": "code",
        "outputId": "98e8b8cb-ca16-4d9e-95d0-40006fbb1c97",
        "colab": {
          "base_uri": "https://localhost:8080/",
          "height": 34
        }
      },
      "cell_type": "code",
      "source": [
        "pca.explained_variance_ratio_"
      ],
      "execution_count": 0,
      "outputs": [
        {
          "output_type": "execute_result",
          "data": {
            "text/plain": [
              "array([0.3553984 , 0.0941872 , 0.03832466, 0.03382516, 0.02766937])"
            ]
          },
          "metadata": {
            "tags": []
          },
          "execution_count": 15
        }
      ]
    },
    {
      "metadata": {
        "id": "itNIq1bkrbFf",
        "colab_type": "code",
        "outputId": "96380b06-0ff0-40e7-9252-69d1b5d1e690",
        "colab": {
          "base_uri": "https://localhost:8080/",
          "height": 34
        }
      },
      "cell_type": "code",
      "source": [
        "pca.explained_variance_ratio_.sum()"
      ],
      "execution_count": 0,
      "outputs": [
        {
          "output_type": "execute_result",
          "data": {
            "text/plain": [
              "0.5494047793310485"
            ]
          },
          "metadata": {
            "tags": []
          },
          "execution_count": 16
        }
      ]
    },
    {
      "metadata": {
        "id": "3LZWTqADsd2V",
        "colab_type": "code",
        "colab": {}
      },
      "cell_type": "code",
      "source": [
        "# declare a Kmeans instance with 3 classes\n",
        "model = KMeans(n_clusters=3)"
      ],
      "execution_count": 0,
      "outputs": []
    },
    {
      "metadata": {
        "id": "GKq3QkYksjVQ",
        "colab_type": "code",
        "outputId": "ce5dc302-cdd4-4cdd-b947-341caa571c83",
        "colab": {
          "base_uri": "https://localhost:8080/",
          "height": 68
        }
      },
      "cell_type": "code",
      "source": [
        "# fit data \n",
        "model.fit(principalComponents)"
      ],
      "execution_count": 0,
      "outputs": [
        {
          "output_type": "execute_result",
          "data": {
            "text/plain": [
              "KMeans(algorithm='auto', copy_x=True, init='k-means++', max_iter=300,\n",
              "    n_clusters=3, n_init=10, n_jobs=None, precompute_distances='auto',\n",
              "    random_state=None, tol=0.0001, verbose=0)"
            ]
          },
          "metadata": {
            "tags": []
          },
          "execution_count": 18
        }
      ]
    },
    {
      "metadata": {
        "id": "l_Sj9dums9RO",
        "colab_type": "code",
        "colab": {}
      },
      "cell_type": "code",
      "source": [
        "# get clusters\n",
        "clusters = model.predict(principalComponents)"
      ],
      "execution_count": 0,
      "outputs": []
    },
    {
      "metadata": {
        "id": "0SDse1g-SuQy",
        "colab_type": "code",
        "colab": {}
      },
      "cell_type": "code",
      "source": [
        "principalDf['cluster'] = clusters"
      ],
      "execution_count": 0,
      "outputs": []
    },
    {
      "metadata": {
        "id": "4HsLPWWCU1nu",
        "colab_type": "code",
        "outputId": "bb8f0510-0a70-4311-beea-cbed24359d15",
        "colab": {
          "base_uri": "https://localhost:8080/",
          "height": 221
        }
      },
      "cell_type": "code",
      "source": [
        "principalDf.head()"
      ],
      "execution_count": 0,
      "outputs": [
        {
          "output_type": "execute_result",
          "data": {
            "text/html": [
              "<div>\n",
              "<style scoped>\n",
              "    .dataframe tbody tr th:only-of-type {\n",
              "        vertical-align: middle;\n",
              "    }\n",
              "\n",
              "    .dataframe tbody tr th {\n",
              "        vertical-align: top;\n",
              "    }\n",
              "\n",
              "    .dataframe thead th {\n",
              "        text-align: right;\n",
              "    }\n",
              "</style>\n",
              "<table border=\"1\" class=\"dataframe\">\n",
              "  <thead>\n",
              "    <tr style=\"text-align: right;\">\n",
              "      <th></th>\n",
              "      <th>principal component 1</th>\n",
              "      <th>principal component 2</th>\n",
              "      <th>principal component 3</th>\n",
              "      <th>principal component 4</th>\n",
              "      <th>principal component 5</th>\n",
              "      <th>cluster</th>\n",
              "    </tr>\n",
              "  </thead>\n",
              "  <tbody>\n",
              "    <tr>\n",
              "      <th>0</th>\n",
              "      <td>4.221909</td>\n",
              "      <td>-2.273156</td>\n",
              "      <td>0.760895</td>\n",
              "      <td>-1.595942</td>\n",
              "      <td>4.229952</td>\n",
              "      <td>0</td>\n",
              "    </tr>\n",
              "    <tr>\n",
              "      <th>1</th>\n",
              "      <td>13.461862</td>\n",
              "      <td>-3.655075</td>\n",
              "      <td>-2.135355</td>\n",
              "      <td>-0.890576</td>\n",
              "      <td>-0.205635</td>\n",
              "      <td>1</td>\n",
              "    </tr>\n",
              "    <tr>\n",
              "      <th>2</th>\n",
              "      <td>5.898813</td>\n",
              "      <td>-2.348910</td>\n",
              "      <td>0.101535</td>\n",
              "      <td>0.483923</td>\n",
              "      <td>0.256511</td>\n",
              "      <td>0</td>\n",
              "    </tr>\n",
              "    <tr>\n",
              "      <th>3</th>\n",
              "      <td>-1.883405</td>\n",
              "      <td>1.373126</td>\n",
              "      <td>-0.209414</td>\n",
              "      <td>3.304034</td>\n",
              "      <td>0.290557</td>\n",
              "      <td>0</td>\n",
              "    </tr>\n",
              "    <tr>\n",
              "      <th>4</th>\n",
              "      <td>2.635306</td>\n",
              "      <td>1.729701</td>\n",
              "      <td>0.546624</td>\n",
              "      <td>-2.890968</td>\n",
              "      <td>-0.893202</td>\n",
              "      <td>0</td>\n",
              "    </tr>\n",
              "  </tbody>\n",
              "</table>\n",
              "</div>"
            ],
            "text/plain": [
              "   principal component 1  principal component 2  principal component 3  \\\n",
              "0               4.221909              -2.273156               0.760895   \n",
              "1              13.461862              -3.655075              -2.135355   \n",
              "2               5.898813              -2.348910               0.101535   \n",
              "3              -1.883405               1.373126              -0.209414   \n",
              "4               2.635306               1.729701               0.546624   \n",
              "\n",
              "   principal component 4  principal component 5  cluster  \n",
              "0              -1.595942               4.229952        0  \n",
              "1              -0.890576              -0.205635        1  \n",
              "2               0.483923               0.256511        0  \n",
              "3               3.304034               0.290557        0  \n",
              "4              -2.890968              -0.893202        0  "
            ]
          },
          "metadata": {
            "tags": []
          },
          "execution_count": 21
        }
      ]
    },
    {
      "metadata": {
        "id": "h2pSHt41poGB",
        "colab_type": "code",
        "outputId": "1845d592-8f0f-4bcb-e03f-0710b536f9c8",
        "colab": {
          "base_uri": "https://localhost:8080/",
          "height": 359
        }
      },
      "cell_type": "code",
      "source": [
        "# plot based on cluster\n",
        "with plt.style.context('seaborn-whitegrid'):\n",
        "\n",
        "    fig = plt.figure(figsize = (8,5))\n",
        "    ax = fig.add_subplot(1,1,1) \n",
        "    ax.set_xlabel('Principal Component 1', fontsize = 15)\n",
        "    ax.set_ylabel('Principal Component 2', fontsize = 15)\n",
        "    ax.set_title('2 Component PCA', fontsize = 20)\n",
        "\n",
        "    cluster_list = [0, 1, 2]\n",
        "    colors = ['r', 'g', 'b']\n",
        "\n",
        "    for cluster, color in zip(cluster_list,colors):\n",
        "        indicesToKeep = principalDf['cluster'] == cluster\n",
        "        ax.scatter(principalDf.loc[indicesToKeep, 'principal component 1']\n",
        "                   , principalDf.loc[indicesToKeep, 'principal component 2']\n",
        "                   , c = color\n",
        "                   , s = 50)\n",
        "    L = ax.legend(clusters)\n",
        "    L.get_texts()[0].set_text('Cluster 0')\n",
        "    L.get_texts()[1].set_text('Cluster 1')\n",
        "    L.get_texts()[2].set_text('Cluster 2')\n",
        "\n",
        "    ax.grid()"
      ],
      "execution_count": 0,
      "outputs": [
        {
          "output_type": "display_data",
          "data": {
            "image/png": "[encoded data removed]",
            "text/plain": [
              "<Figure size 576x360 with 1 Axes>"
            ]
          },
          "metadata": {
            "tags": []
          }
        }
      ]
    },
    {
      "metadata": {
        "id": "h_h0NH3Hac9J",
        "colab_type": "code",
        "colab": {}
      },
      "cell_type": "code",
      "source": [
        "# Add cluster to original dataframe\n",
        "df['cluster'] = clusters"
      ],
      "execution_count": 0,
      "outputs": []
    },
    {
      "metadata": {
        "id": "P7TYQwKHdhZe",
        "colab_type": "code",
        "outputId": "01de0543-8da8-45dd-d224-3c379003e274",
        "colab": {
          "base_uri": "https://localhost:8080/",
          "height": 296
        }
      },
      "cell_type": "code",
      "source": [
        "df.head(2)"
      ],
      "execution_count": 0,
      "outputs": [
        {
          "output_type": "execute_result",
          "data": {
            "text/html": [
              "<div>\n",
              "<style scoped>\n",
              "    .dataframe tbody tr th:only-of-type {\n",
              "        vertical-align: middle;\n",
              "    }\n",
              "\n",
              "    .dataframe tbody tr th {\n",
              "        vertical-align: top;\n",
              "    }\n",
              "\n",
              "    .dataframe thead th {\n",
              "        text-align: right;\n",
              "    }\n",
              "</style>\n",
              "<table border=\"1\" class=\"dataframe\">\n",
              "  <thead>\n",
              "    <tr style=\"text-align: right;\">\n",
              "      <th></th>\n",
              "      <th>createdAt_Month</th>\n",
              "      <th>Reason</th>\n",
              "      <th>application_id</th>\n",
              "      <th>SystemCustomerID</th>\n",
              "      <th>SystemLoanID</th>\n",
              "      <th>income_source</th>\n",
              "      <th>income_verified</th>\n",
              "      <th>next_loan_number</th>\n",
              "      <th>country</th>\n",
              "      <th>DecisionFlag</th>\n",
              "      <th>...</th>\n",
              "      <th>callFeatures_vol_calls_3_mnth_out</th>\n",
              "      <th>callFeatures_dur_calls_out</th>\n",
              "      <th>callFeatures_dur_calls_contacts_out</th>\n",
              "      <th>callFeatures_ratio_contacts_out</th>\n",
              "      <th>callFeatures_no_distinct_call_numbers_out</th>\n",
              "      <th>callFeatures_no_calls_over_zero_secs_out</th>\n",
              "      <th>callFeatures_no_calls_out</th>\n",
              "      <th>predictedIncome</th>\n",
              "      <th>installationId</th>\n",
              "      <th>cluster</th>\n",
              "    </tr>\n",
              "  </thead>\n",
              "  <tbody>\n",
              "    <tr>\n",
              "      <th>0</th>\n",
              "      <td>201812</td>\n",
              "      <td>Client did not meet approval score.</td>\n",
              "      <td>WRYRieZlqBsT6w53b2HDpA_1544015103274</td>\n",
              "      <td>334043596</td>\n",
              "      <td>302881418623</td>\n",
              "      <td>credit</td>\n",
              "      <td>True</td>\n",
              "      <td>1</td>\n",
              "      <td>NG</td>\n",
              "      <td>Declined</td>\n",
              "      <td>...</td>\n",
              "      <td>0.0</td>\n",
              "      <td>48872.0</td>\n",
              "      <td>0.985554</td>\n",
              "      <td>0.929771</td>\n",
              "      <td>139.0</td>\n",
              "      <td>287.0</td>\n",
              "      <td>655.0</td>\n",
              "      <td>105872.674499</td>\n",
              "      <td>374ac87639a74b3e01465993be618360</td>\n",
              "      <td>0</td>\n",
              "    </tr>\n",
              "    <tr>\n",
              "      <th>1</th>\n",
              "      <td>201809</td>\n",
              "      <td>Client did not meet approval score.</td>\n",
              "      <td>oVpQz7tgkPa3bmvVDzYqw_1530858694219</td>\n",
              "      <td>524284563</td>\n",
              "      <td>302328949395</td>\n",
              "      <td>credit</td>\n",
              "      <td>True</td>\n",
              "      <td>4</td>\n",
              "      <td>NG</td>\n",
              "      <td>Declined</td>\n",
              "      <td>...</td>\n",
              "      <td>0.0</td>\n",
              "      <td>65335.0</td>\n",
              "      <td>0.956868</td>\n",
              "      <td>0.917550</td>\n",
              "      <td>327.0</td>\n",
              "      <td>1114.0</td>\n",
              "      <td>2923.0</td>\n",
              "      <td>34421.220891</td>\n",
              "      <td>e24749e856614a1ae3734c773670f74c</td>\n",
              "      <td>1</td>\n",
              "    </tr>\n",
              "  </tbody>\n",
              "</table>\n",
              "<p>2 rows × 272 columns</p>\n",
              "</div>"
            ],
            "text/plain": [
              "   createdAt_Month                               Reason  \\\n",
              "0           201812  Client did not meet approval score.   \n",
              "1           201809  Client did not meet approval score.   \n",
              "\n",
              "                         application_id  SystemCustomerID  SystemLoanID  \\\n",
              "0  WRYRieZlqBsT6w53b2HDpA_1544015103274         334043596  302881418623   \n",
              "1   oVpQz7tgkPa3bmvVDzYqw_1530858694219         524284563  302328949395   \n",
              "\n",
              "  income_source  income_verified  next_loan_number country DecisionFlag  \\\n",
              "0        credit             True                 1      NG     Declined   \n",
              "1        credit             True                 4      NG     Declined   \n",
              "\n",
              "    ...    callFeatures_vol_calls_3_mnth_out  callFeatures_dur_calls_out  \\\n",
              "0   ...                                  0.0                     48872.0   \n",
              "1   ...                                  0.0                     65335.0   \n",
              "\n",
              "  callFeatures_dur_calls_contacts_out callFeatures_ratio_contacts_out  \\\n",
              "0                            0.985554                        0.929771   \n",
              "1                            0.956868                        0.917550   \n",
              "\n",
              "   callFeatures_no_distinct_call_numbers_out  \\\n",
              "0                                      139.0   \n",
              "1                                      327.0   \n",
              "\n",
              "  callFeatures_no_calls_over_zero_secs_out  callFeatures_no_calls_out  \\\n",
              "0                                    287.0                      655.0   \n",
              "1                                   1114.0                     2923.0   \n",
              "\n",
              "   predictedIncome                    installationId  cluster  \n",
              "0    105872.674499  374ac87639a74b3e01465993be618360        0  \n",
              "1     34421.220891  e24749e856614a1ae3734c773670f74c        1  \n",
              "\n",
              "[2 rows x 272 columns]"
            ]
          },
          "metadata": {
            "tags": []
          },
          "execution_count": 30
        }
      ]
    },
    {
      "metadata": {
        "id": "liwJ3OVwa3sb",
        "colab_type": "text"
      },
      "cell_type": "markdown",
      "source": [
        "## Exploratory Data Analysis of Dataset Base on Cluster"
      ]
    },
    {
      "metadata": {
        "id": "l43cUZTsfdc2",
        "colab_type": "text"
      },
      "cell_type": "markdown",
      "source": [
        ""
      ]
    },
    {
      "metadata": {
        "id": "rvX8DEIfeyzD",
        "colab_type": "code",
        "outputId": "74dfca77-9477-4088-e469-f295a88f1667",
        "colab": {
          "base_uri": "https://localhost:8080/",
          "height": 374
        }
      },
      "cell_type": "code",
      "source": [
        "df.groupby('cluster')['Income', 'predictedIncome'].mean().round(2).plot(kind='bar')"
      ],
      "execution_count": 0,
      "outputs": [
        {
          "output_type": "execute_result",
          "data": {
            "text/plain": [
              "<matplotlib.axes._subplots.AxesSubplot at 0x7fb8dfc7a550>"
            ]
          },
          "metadata": {
            "tags": []
          },
          "execution_count": 31
        },
        {
          "output_type": "display_data",
          "data": {
            "image/png": "[encoded data removed]",
            "text/plain": [
              "<Figure size 576x396 with 1 Axes>"
            ]
          },
          "metadata": {
            "tags": []
          }
        }
      ]
    },
    {
      "metadata": {
        "id": "f-hQ4qesuG0W",
        "colab_type": "text"
      },
      "cell_type": "markdown",
      "source": [
        "We can see the mean income and predicted income for each cluster and notice that cluster 2 has the highest mean income and predicted income while cluster 1 has the lowest income and predicted income"
      ]
    },
    {
      "metadata": {
        "id": "B7ppAKx5gF6c",
        "colab_type": "code",
        "outputId": "438853f8-b8a1-4fce-f9f3-23822ebfd38a",
        "colab": {
          "base_uri": "https://localhost:8080/",
          "height": 224
        }
      },
      "cell_type": "code",
      "source": [
        "df.groupby('cluster')['Income', 'predictedIncome'].describe()"
      ],
      "execution_count": 0,
      "outputs": [
        {
          "output_type": "execute_result",
          "data": {
            "text/html": [
              "<div>\n",
              "<style scoped>\n",
              "    .dataframe tbody tr th:only-of-type {\n",
              "        vertical-align: middle;\n",
              "    }\n",
              "\n",
              "    .dataframe tbody tr th {\n",
              "        vertical-align: top;\n",
              "    }\n",
              "\n",
              "    .dataframe thead tr th {\n",
              "        text-align: left;\n",
              "    }\n",
              "\n",
              "    .dataframe thead tr:last-of-type th {\n",
              "        text-align: right;\n",
              "    }\n",
              "</style>\n",
              "<table border=\"1\" class=\"dataframe\">\n",
              "  <thead>\n",
              "    <tr>\n",
              "      <th></th>\n",
              "      <th colspan=\"8\" halign=\"left\">Income</th>\n",
              "      <th colspan=\"8\" halign=\"left\">predictedIncome</th>\n",
              "    </tr>\n",
              "    <tr>\n",
              "      <th></th>\n",
              "      <th>count</th>\n",
              "      <th>mean</th>\n",
              "      <th>std</th>\n",
              "      <th>min</th>\n",
              "      <th>25%</th>\n",
              "      <th>50%</th>\n",
              "      <th>75%</th>\n",
              "      <th>max</th>\n",
              "      <th>count</th>\n",
              "      <th>mean</th>\n",
              "      <th>std</th>\n",
              "      <th>min</th>\n",
              "      <th>25%</th>\n",
              "      <th>50%</th>\n",
              "      <th>75%</th>\n",
              "      <th>max</th>\n",
              "    </tr>\n",
              "    <tr>\n",
              "      <th>cluster</th>\n",
              "      <th></th>\n",
              "      <th></th>\n",
              "      <th></th>\n",
              "      <th></th>\n",
              "      <th></th>\n",
              "      <th></th>\n",
              "      <th></th>\n",
              "      <th></th>\n",
              "      <th></th>\n",
              "      <th></th>\n",
              "      <th></th>\n",
              "      <th></th>\n",
              "      <th></th>\n",
              "      <th></th>\n",
              "      <th></th>\n",
              "      <th></th>\n",
              "    </tr>\n",
              "  </thead>\n",
              "  <tbody>\n",
              "    <tr>\n",
              "      <th>0</th>\n",
              "      <td>11092.0</td>\n",
              "      <td>45873.975033</td>\n",
              "      <td>61368.461244</td>\n",
              "      <td>18.50</td>\n",
              "      <td>15000.00</td>\n",
              "      <td>25000.0</td>\n",
              "      <td>50000.0</td>\n",
              "      <td>801776.7</td>\n",
              "      <td>11090.0</td>\n",
              "      <td>37594.733000</td>\n",
              "      <td>23734.177304</td>\n",
              "      <td>-1.0</td>\n",
              "      <td>22021.090482</td>\n",
              "      <td>31903.594741</td>\n",
              "      <td>45989.736533</td>\n",
              "      <td>277381.237491</td>\n",
              "    </tr>\n",
              "    <tr>\n",
              "      <th>1</th>\n",
              "      <td>865.0</td>\n",
              "      <td>54904.418173</td>\n",
              "      <td>63865.249085</td>\n",
              "      <td>74.17</td>\n",
              "      <td>20000.00</td>\n",
              "      <td>32000.0</td>\n",
              "      <td>70000.0</td>\n",
              "      <td>696986.0</td>\n",
              "      <td>865.0</td>\n",
              "      <td>43168.254559</td>\n",
              "      <td>28092.543687</td>\n",
              "      <td>-1.0</td>\n",
              "      <td>25781.220739</td>\n",
              "      <td>36638.129092</td>\n",
              "      <td>52132.772835</td>\n",
              "      <td>219053.850746</td>\n",
              "    </tr>\n",
              "    <tr>\n",
              "      <th>2</th>\n",
              "      <td>36.0</td>\n",
              "      <td>84844.563889</td>\n",
              "      <td>60759.025502</td>\n",
              "      <td>25000.00</td>\n",
              "      <td>61655.28</td>\n",
              "      <td>75000.0</td>\n",
              "      <td>100000.0</td>\n",
              "      <td>300000.0</td>\n",
              "      <td>36.0</td>\n",
              "      <td>57441.201649</td>\n",
              "      <td>38814.153072</td>\n",
              "      <td>-1.0</td>\n",
              "      <td>30735.804095</td>\n",
              "      <td>47900.160932</td>\n",
              "      <td>66463.641163</td>\n",
              "      <td>181413.624264</td>\n",
              "    </tr>\n",
              "  </tbody>\n",
              "</table>\n",
              "</div>"
            ],
            "text/plain": [
              "          Income                                                           \\\n",
              "           count          mean           std       min       25%      50%   \n",
              "cluster                                                                     \n",
              "0        11092.0  45873.975033  61368.461244     18.50  15000.00  25000.0   \n",
              "1          865.0  54904.418173  63865.249085     74.17  20000.00  32000.0   \n",
              "2           36.0  84844.563889  60759.025502  25000.00  61655.28  75000.0   \n",
              "\n",
              "                            predictedIncome                                   \\\n",
              "              75%       max           count          mean           std  min   \n",
              "cluster                                                                        \n",
              "0         50000.0  801776.7         11090.0  37594.733000  23734.177304 -1.0   \n",
              "1         70000.0  696986.0           865.0  43168.254559  28092.543687 -1.0   \n",
              "2        100000.0  300000.0            36.0  57441.201649  38814.153072 -1.0   \n",
              "\n",
              "                                                                  \n",
              "                  25%           50%           75%            max  \n",
              "cluster                                                           \n",
              "0        22021.090482  31903.594741  45989.736533  277381.237491  \n",
              "1        25781.220739  36638.129092  52132.772835  219053.850746  \n",
              "2        30735.804095  47900.160932  66463.641163  181413.624264  "
            ]
          },
          "metadata": {
            "tags": []
          },
          "execution_count": 32
        }
      ]
    },
    {
      "metadata": {
        "id": "WGkmUfI-rhLT",
        "colab_type": "code",
        "outputId": "b28db2c4-e5b7-4a7f-c822-7ad973809098",
        "colab": {
          "base_uri": "https://localhost:8080/",
          "height": 374
        }
      },
      "cell_type": "code",
      "source": [
        "df.groupby(['cluster', 'demofeatures_gender'])['demofeatures_gender'].count().unstack().plot(kind='bar', logy=True)"
      ],
      "execution_count": 0,
      "outputs": [
        {
          "output_type": "execute_result",
          "data": {
            "text/plain": [
              "<matplotlib.axes._subplots.AxesSubplot at 0x7fb8da334630>"
            ]
          },
          "metadata": {
            "tags": []
          },
          "execution_count": 33
        },
        {
          "output_type": "display_data",
          "data": {
            "image/png": "[encoded data removed]",
            "text/plain": [
              "<Figure size 576x396 with 1 Axes>"
            ]
          },
          "metadata": {
            "tags": []
          }
        }
      ]
    },
    {
      "metadata": {
        "id": "aqT8RkPJu0S2",
        "colab_type": "text"
      },
      "cell_type": "markdown",
      "source": [
        "Clearly we can see that more males applied for loan than female in all cluster with cluster 0 holding the highest number of male and female with rejected loan application."
      ]
    },
    {
      "metadata": {
        "id": "cmltJopjwmoU",
        "colab_type": "code",
        "outputId": "6e4a58a0-e3c0-407b-f363-2d49c6100c39",
        "colab": {
          "base_uri": "https://localhost:8080/",
          "height": 374
        }
      },
      "cell_type": "code",
      "source": [
        "df.groupby(['cluster', 'demofeatures_loan_purpose'])['demofeatures_loan_purpose'].count().unstack().plot(kind='bar', logy=True)"
      ],
      "execution_count": 0,
      "outputs": [
        {
          "output_type": "execute_result",
          "data": {
            "text/plain": [
              "<matplotlib.axes._subplots.AxesSubplot at 0x7fb8da421710>"
            ]
          },
          "metadata": {
            "tags": []
          },
          "execution_count": 34
        },
        {
          "output_type": "display_data",
          "data": {
            "image/png": "[encoded data removed]",
            "text/plain": [
              "<Figure size 576x396 with 1 Axes>"
            ]
          },
          "metadata": {
            "tags": []
          }
        }
      ]
    },
    {
      "metadata": {
        "id": "Ty07UhKwPrbA",
        "colab_type": "code",
        "outputId": "207e8f2d-fcde-4196-a5eb-70752e7d37f2",
        "colab": {
          "base_uri": "https://localhost:8080/",
          "height": 376
        }
      },
      "cell_type": "code",
      "source": [
        "df.groupby(['cluster', 'demofeatures_marital_status'])['demofeatures_marital_status'].count().unstack().plot(kind='bar', logy=True)"
      ],
      "execution_count": 0,
      "outputs": [
        {
          "output_type": "execute_result",
          "data": {
            "text/plain": [
              "<matplotlib.axes._subplots.AxesSubplot at 0x7f5140ae1e80>"
            ]
          },
          "metadata": {
            "tags": []
          },
          "execution_count": 149
        },
        {
          "output_type": "display_data",
          "data": {
            "image/png": "[encoded data removed]",
            "text/plain": [
              "<Figure size 576x396 with 1 Axes>"
            ]
          },
          "metadata": {
            "tags": []
          }
        }
      ]
    },
    {
      "metadata": {
        "id": "1J_LiBPiQw1i",
        "colab_type": "code",
        "outputId": "efd3463c-1432-41f6-ab76-f74ddc7e6ec1",
        "colab": {
          "base_uri": "https://localhost:8080/",
          "height": 374
        }
      },
      "cell_type": "code",
      "source": [
        "df.groupby(['cluster', 'demofeatures_level_of_education'])['demofeatures_level_of_education'].count().unstack().plot(kind='bar', logy=True)"
      ],
      "execution_count": 0,
      "outputs": [
        {
          "output_type": "execute_result",
          "data": {
            "text/plain": [
              "<matplotlib.axes._subplots.AxesSubplot at 0x7f51409f4208>"
            ]
          },
          "metadata": {
            "tags": []
          },
          "execution_count": 151
        },
        {
          "output_type": "display_data",
          "data": {
            "image/png": "[encoded data removed]",
            "text/plain": [
              "<Figure size 576x396 with 1 Axes>"
            ]
          },
          "metadata": {
            "tags": []
          }
        }
      ]
    },
    {
      "metadata": {
        "id": "zaw6OPYdRIgB",
        "colab_type": "code",
        "outputId": "004b3d4a-25bb-4b46-faf5-38911a368cc4",
        "colab": {
          "base_uri": "https://localhost:8080/",
          "height": 374
        }
      },
      "cell_type": "code",
      "source": [
        "df.groupby(['cluster', 'demofeatures_employment_status_clients'])['demofeatures_employment_status_clients'].count().unstack().fillna(0).plot(kind='bar', logy=True)"
      ],
      "execution_count": 0,
      "outputs": [
        {
          "output_type": "execute_result",
          "data": {
            "text/plain": [
              "<matplotlib.axes._subplots.AxesSubplot at 0x7fb8d9ddc0b8>"
            ]
          },
          "metadata": {
            "tags": []
          },
          "execution_count": 37
        },
        {
          "output_type": "display_data",
          "data": {
            "image/png": "[encoded data removed]",
            "text/plain": [
              "<Figure size 576x396 with 1 Axes>"
            ]
          },
          "metadata": {
            "tags": []
          }
        }
      ]
    }
  ]
}